{
 "cells": [
  {
   "cell_type": "markdown",
   "metadata": {},
   "source": [
    "Импортирую библиотеки, тут использовал только pandas и numpy"
   ]
  },
  {
   "cell_type": "code",
   "execution_count": 1,
   "metadata": {},
   "outputs": [],
   "source": [
    "import pandas as pd\n",
    "import numpy as np\n",
    "\n",
    "pd.set_option(\"display.precision\", 3)\n",
    "pd.set_option(\"display.expand_frame_repr\", False)\n",
    "pd.set_option(\"display.max_rows\", 25)"
   ]
  },
  {
   "cell_type": "markdown",
   "metadata": {},
   "source": [
    "Загружаю датасеты"
   ]
  },
  {
   "cell_type": "code",
   "execution_count": 2,
   "metadata": {},
   "outputs": [],
   "source": [
    "df_chech = pd.read_csv('data/row/cheques_rows.csv', sep=';')\n",
    "df_prod = pd.read_csv('data/row/product_df.csv', sep=\";\")"
   ]
  },
  {
   "cell_type": "markdown",
   "metadata": {},
   "source": [
    "Объединяю датасеты"
   ]
  },
  {
   "cell_type": "code",
   "execution_count": 3,
   "metadata": {},
   "outputs": [],
   "source": [
    "df = pd.merge(df_chech, df_prod, how='left', left_on='product_id', right_on='product_id')"
   ]
  },
  {
   "cell_type": "markdown",
   "metadata": {},
   "source": [
    "Перевожу временную фичу в формат datetime"
   ]
  },
  {
   "cell_type": "code",
   "execution_count": 4,
   "metadata": {},
   "outputs": [],
   "source": [
    "df['sale_date_id'] =  pd.to_datetime(df['sale_date_id'], format='%Y%m%d')"
   ]
  },
  {
   "cell_type": "markdown",
   "metadata": {},
   "source": [
    "Добавляю фичу со статусом продажи - по акции или нет, если размер скидки  больше 0.05 от общей цены"
   ]
  },
  {
   "cell_type": "code",
   "execution_count": 5,
   "metadata": {},
   "outputs": [],
   "source": [
    "df['sale'] = np.where(df['discount_prc'] >  (df['sum_discounted'] + df['discount_prc'] )* 0.05, 'Sale', 'Reg')"
   ]
  },
  {
   "cell_type": "markdown",
   "metadata": {},
   "source": [
    "Проверка на наличие неодназначных продаж. Таких продаж, которые проходили в один день, в одной подгруппе товаров, в разных чеках, но с разными условиями - по акции и нет"
   ]
  },
  {
   "cell_type": "code",
   "execution_count": 6,
   "metadata": {},
   "outputs": [],
   "source": [
    "df['status_g'] = np.where(\n",
    "    (df['sale_date_id'] == df['sale_date_id']) &\n",
    "    (df['product_sub_group_id'] == df['product_sub_group_id'])&\n",
    "    (df['cheque_id'] != df['cheque_id'])  &\n",
    "    (df['sale'] != df['sale'])\n",
    "    ,'Bad', 'Good'\n",
    ")"
   ]
  },
  {
   "cell_type": "markdown",
   "metadata": {},
   "source": [
    "Неодназначных продаж не обнаруженно"
   ]
  },
  {
   "cell_type": "code",
   "execution_count": 7,
   "metadata": {},
   "outputs": [
    {
     "data": {
      "text/html": [
       "<div>\n",
       "<style scoped>\n",
       "    .dataframe tbody tr th:only-of-type {\n",
       "        vertical-align: middle;\n",
       "    }\n",
       "\n",
       "    .dataframe tbody tr th {\n",
       "        vertical-align: top;\n",
       "    }\n",
       "\n",
       "    .dataframe thead th {\n",
       "        text-align: right;\n",
       "    }\n",
       "</style>\n",
       "<table border=\"1\" class=\"dataframe\">\n",
       "  <thead>\n",
       "    <tr style=\"text-align: right;\">\n",
       "      <th></th>\n",
       "      <th>cheque_id</th>\n",
       "      <th>sale_date_id</th>\n",
       "      <th>contact_id</th>\n",
       "      <th>shop_id</th>\n",
       "      <th>product_id</th>\n",
       "      <th>quantity</th>\n",
       "      <th>sum_discounted</th>\n",
       "      <th>discount_prc</th>\n",
       "      <th>product_sub_group_id</th>\n",
       "      <th>sale</th>\n",
       "      <th>status_g</th>\n",
       "    </tr>\n",
       "  </thead>\n",
       "  <tbody>\n",
       "  </tbody>\n",
       "</table>\n",
       "</div>"
      ],
      "text/plain": [
       "Empty DataFrame\n",
       "Columns: [cheque_id, sale_date_id, contact_id, shop_id, product_id, quantity, sum_discounted, discount_prc, product_sub_group_id, sale, status_g]\n",
       "Index: []"
      ]
     },
     "execution_count": 7,
     "metadata": {},
     "output_type": "execute_result"
    }
   ],
   "source": [
    "df.loc[df['status_g'] == 'Bad']"
   ]
  },
  {
   "cell_type": "markdown",
   "metadata": {},
   "source": [
    "На всякий случай, делаю такую же проверку для всех товаров"
   ]
  },
  {
   "cell_type": "code",
   "execution_count": 8,
   "metadata": {},
   "outputs": [],
   "source": [
    "df['status_p'] = np.where(\n",
    "    (df['sale_date_id'] == df['sale_date_id']) &\n",
    "    (df['product_id'] == df['product_id'])&\n",
    "    (df['cheque_id'] != df['cheque_id'])  &\n",
    "    (df['sale'] != df['sale'])\n",
    "    ,'Bad', 'Good'\n",
    ")"
   ]
  },
  {
   "cell_type": "code",
   "execution_count": 9,
   "metadata": {},
   "outputs": [
    {
     "data": {
      "text/html": [
       "<div>\n",
       "<style scoped>\n",
       "    .dataframe tbody tr th:only-of-type {\n",
       "        vertical-align: middle;\n",
       "    }\n",
       "\n",
       "    .dataframe tbody tr th {\n",
       "        vertical-align: top;\n",
       "    }\n",
       "\n",
       "    .dataframe thead th {\n",
       "        text-align: right;\n",
       "    }\n",
       "</style>\n",
       "<table border=\"1\" class=\"dataframe\">\n",
       "  <thead>\n",
       "    <tr style=\"text-align: right;\">\n",
       "      <th></th>\n",
       "      <th>cheque_id</th>\n",
       "      <th>sale_date_id</th>\n",
       "      <th>contact_id</th>\n",
       "      <th>shop_id</th>\n",
       "      <th>product_id</th>\n",
       "      <th>quantity</th>\n",
       "      <th>sum_discounted</th>\n",
       "      <th>discount_prc</th>\n",
       "      <th>product_sub_group_id</th>\n",
       "      <th>sale</th>\n",
       "      <th>status_g</th>\n",
       "      <th>status_p</th>\n",
       "    </tr>\n",
       "  </thead>\n",
       "  <tbody>\n",
       "  </tbody>\n",
       "</table>\n",
       "</div>"
      ],
      "text/plain": [
       "Empty DataFrame\n",
       "Columns: [cheque_id, sale_date_id, contact_id, shop_id, product_id, quantity, sum_discounted, discount_prc, product_sub_group_id, sale, status_g, status_p]\n",
       "Index: []"
      ]
     },
     "execution_count": 9,
     "metadata": {},
     "output_type": "execute_result"
    }
   ],
   "source": [
    "df.loc[df['status_p'] == 'Bad']"
   ]
  },
  {
   "cell_type": "markdown",
   "metadata": {},
   "source": [
    "### По результатам вычислений, неодназначных продаж не обнаруженно"
   ]
  },
  {
   "cell_type": "markdown",
   "metadata": {},
   "source": [
    "Подсчитываю. Сколько чеков было по товарным группам было по акции и по регулярной цене "
   ]
  },
  {
   "cell_type": "code",
   "execution_count": 10,
   "metadata": {},
   "outputs": [],
   "source": [
    "df_checks_by_status = df.groupby(by=['sale', 'product_sub_group_id'], as_index = False).agg({'cheque_id' : pd.Series.nunique})"
   ]
  },
  {
   "cell_type": "markdown",
   "metadata": {},
   "source": [
    "Подсчитываю, скольно дней товар продавался по акции и нет, и в каком магазине "
   ]
  },
  {
   "cell_type": "code",
   "execution_count": 59,
   "metadata": {},
   "outputs": [],
   "source": [
    "df_days = df.groupby(by=['sale', 'product_sub_group_id' ,  'shop_id'], as_index = False).agg({'sale_date_id': pd.Series.nunique })\n"
   ]
  },
  {
   "cell_type": "code",
   "execution_count": 63,
   "metadata": {},
   "outputs": [],
   "source": [
    "df_days_with_out_shop = df.groupby(by=['sale', 'product_sub_group_id' ], as_index = False).agg({'sale_date_id': pd.Series.nunique })"
   ]
  },
  {
   "cell_type": "markdown",
   "metadata": {},
   "source": [
    "Основные показатели для продаж по регулярной цене для товаров"
   ]
  },
  {
   "cell_type": "code",
   "execution_count": 28,
   "metadata": {},
   "outputs": [],
   "source": [
    "df_reg = df.loc[df['sale'] == 'Reg'].groupby('product_id').agg({\n",
    "    'cheque_id' : 'count',\n",
    "    'quantity' : 'sum', \n",
    "    'sum_discounted': 'sum'\n",
    "}).rename({\n",
    "    'cheque_id': 'cheque_count_reg', \n",
    "    'quantity': 'quantity_reg', \n",
    "    'sum_discounted': 'sum_reg'}, axis='columns')"
   ]
  },
  {
   "cell_type": "markdown",
   "metadata": {},
   "source": [
    "Можно было не делать два разных датасета "
   ]
  },
  {
   "cell_type": "code",
   "execution_count": 30,
   "metadata": {},
   "outputs": [],
   "source": [
    "df_sales = df.loc[df['sale'] == 'Sale'].groupby('product_id').agg({\n",
    "    'cheque_id' : 'count',\n",
    "    'quantity' : 'sum', \n",
    "    'sum_discounted': 'sum'\n",
    "}).rename({\n",
    "    'cheque_id': 'cheque_count_sales', \n",
    "    'quantity': 'quantity_sales', \n",
    "    'sum_discounted': 'sum_sales'}, axis='columns')"
   ]
  },
  {
   "cell_type": "code",
   "execution_count": 31,
   "metadata": {},
   "outputs": [],
   "source": [
    "df_sum_items = pd.concat([df_reg, df_sales], axis=1)"
   ]
  },
  {
   "cell_type": "markdown",
   "metadata": {},
   "source": [
    "Основные показатели для товарных подгрупп \n",
    "\n",
    "/ Можно было не создавать два дата сете"
   ]
  },
  {
   "cell_type": "code",
   "execution_count": 18,
   "metadata": {},
   "outputs": [],
   "source": [
    "df_reg_group = df.loc[df['sale'] == 'Reg'].groupby('product_sub_group_id', as_index = False).agg({\n",
    "    'cheque_id' : 'count',\n",
    "    'quantity' : 'sum', \n",
    "    'sum_discounted': 'sum'\n",
    "}).rename({\n",
    "    'cheque_id': 'cheque_count_reg', \n",
    "    'quantity': 'quantity_reg', \n",
    "    'sum_discounted': 'sum_reg'}, axis='columns')"
   ]
  },
  {
   "cell_type": "code",
   "execution_count": 19,
   "metadata": {},
   "outputs": [],
   "source": [
    "df_sale_group = df.loc[df['sale'] == 'Sale'].groupby('product_sub_group_id', as_index = False).agg({\n",
    "    'cheque_id' : 'count',\n",
    "    'quantity' : 'sum', \n",
    "    'sum_discounted': 'sum'\n",
    "}).rename({\n",
    "    'cheque_id': 'cheque_count_reg', \n",
    "    'quantity': 'quantity_reg', \n",
    "    'sum_discounted': 'sum_reg'}, axis='columns')"
   ]
  },
  {
   "cell_type": "markdown",
   "metadata": {},
   "source": [
    "Собираю датасет по показателяем"
   ]
  },
  {
   "cell_type": "code",
   "execution_count": 45,
   "metadata": {},
   "outputs": [],
   "source": [
    "df_sum_group = pd.concat([df_reg_group, df_sale_group], axis=1)"
   ]
  },
  {
   "cell_type": "markdown",
   "metadata": {},
   "source": [
    "Функция подсчета коэффицента роста "
   ]
  },
  {
   "cell_type": "code",
   "execution_count": 46,
   "metadata": {},
   "outputs": [],
   "source": [
    "def coefficent(x, y):\n",
    "    return (y/x)*100"
   ]
  },
  {
   "cell_type": "markdown",
   "metadata": {},
   "source": [
    "## Подсчитываю основные показатели для продуктов"
   ]
  },
  {
   "cell_type": "code",
   "execution_count": 47,
   "metadata": {},
   "outputs": [],
   "source": [
    "df_sum_items['c_check'] = coefficent(df_sum_items['cheque_count_reg'],df_sum_items['cheque_count_sales'])\n",
    "df_sum_items['c_qua'] = coefficent(df_sum_items['quantity_reg'],df_sum_items['quantity_sales'])\n",
    "df_sum_items['c_sum'] = coefficent(df_sum_items['sum_reg'],df_sum_items['sum_sales'])"
   ]
  },
  {
   "cell_type": "markdown",
   "metadata": {},
   "source": [
    "## Подсчитываю основные показатели темпов роста для групп"
   ]
  },
  {
   "cell_type": "markdown",
   "metadata": {},
   "source": [
    "### Дальше чищу от товаров, которые продавались только по акции или только по регулярной цене. Я их удаляю, но мне кажется, что можно подставить 0"
   ]
  },
  {
   "cell_type": "code",
   "execution_count": 48,
   "metadata": {},
   "outputs": [],
   "source": [
    "df_sum_items.dropna(inplace=True)"
   ]
  },
  {
   "cell_type": "code",
   "execution_count": 49,
   "metadata": {},
   "outputs": [],
   "source": [
    "df_sum = pd.merge(df_sum_items, df_prod, how='left', left_on='product_id', right_on='product_id')"
   ]
  },
  {
   "cell_type": "code",
   "execution_count": 50,
   "metadata": {},
   "outputs": [
    {
     "data": {
      "text/html": [
       "<div>\n",
       "<style scoped>\n",
       "    .dataframe tbody tr th:only-of-type {\n",
       "        vertical-align: middle;\n",
       "    }\n",
       "\n",
       "    .dataframe tbody tr th {\n",
       "        vertical-align: top;\n",
       "    }\n",
       "\n",
       "    .dataframe thead th {\n",
       "        text-align: right;\n",
       "    }\n",
       "</style>\n",
       "<table border=\"1\" class=\"dataframe\">\n",
       "  <thead>\n",
       "    <tr style=\"text-align: right;\">\n",
       "      <th></th>\n",
       "      <th>product_id</th>\n",
       "      <th>cheque_count_reg</th>\n",
       "      <th>quantity_reg</th>\n",
       "      <th>sum_reg</th>\n",
       "      <th>cheque_count_sales</th>\n",
       "      <th>quantity_sales</th>\n",
       "      <th>sum_sales</th>\n",
       "      <th>c_check</th>\n",
       "      <th>c_qua</th>\n",
       "      <th>c_sum</th>\n",
       "      <th>product_sub_group_id</th>\n",
       "    </tr>\n",
       "  </thead>\n",
       "  <tbody>\n",
       "    <tr>\n",
       "      <th>0</th>\n",
       "      <td>0</td>\n",
       "      <td>3961.0</td>\n",
       "      <td>6448.556</td>\n",
       "      <td>4.281e+05</td>\n",
       "      <td>1087.0</td>\n",
       "      <td>1440.893</td>\n",
       "      <td>6.405e+04</td>\n",
       "      <td>27.443</td>\n",
       "      <td>22.344</td>\n",
       "      <td>14.960</td>\n",
       "      <td>0</td>\n",
       "    </tr>\n",
       "    <tr>\n",
       "      <th>1</th>\n",
       "      <td>101</td>\n",
       "      <td>276.0</td>\n",
       "      <td>298.000</td>\n",
       "      <td>3.019e+04</td>\n",
       "      <td>31.0</td>\n",
       "      <td>32.000</td>\n",
       "      <td>2.548e+03</td>\n",
       "      <td>11.232</td>\n",
       "      <td>10.738</td>\n",
       "      <td>8.439</td>\n",
       "      <td>0</td>\n",
       "    </tr>\n",
       "    <tr>\n",
       "      <th>2</th>\n",
       "      <td>107</td>\n",
       "      <td>185.0</td>\n",
       "      <td>218.000</td>\n",
       "      <td>5.640e+04</td>\n",
       "      <td>57.0</td>\n",
       "      <td>71.000</td>\n",
       "      <td>1.079e+04</td>\n",
       "      <td>30.811</td>\n",
       "      <td>32.569</td>\n",
       "      <td>19.125</td>\n",
       "      <td>1</td>\n",
       "    </tr>\n",
       "    <tr>\n",
       "      <th>3</th>\n",
       "      <td>108</td>\n",
       "      <td>475.0</td>\n",
       "      <td>532.000</td>\n",
       "      <td>8.965e+04</td>\n",
       "      <td>193.0</td>\n",
       "      <td>240.000</td>\n",
       "      <td>2.440e+04</td>\n",
       "      <td>40.632</td>\n",
       "      <td>45.113</td>\n",
       "      <td>27.216</td>\n",
       "      <td>1</td>\n",
       "    </tr>\n",
       "    <tr>\n",
       "      <th>4</th>\n",
       "      <td>109</td>\n",
       "      <td>11068.0</td>\n",
       "      <td>22229.000</td>\n",
       "      <td>2.256e+06</td>\n",
       "      <td>17543.0</td>\n",
       "      <td>17751.000</td>\n",
       "      <td>1.758e+06</td>\n",
       "      <td>158.502</td>\n",
       "      <td>79.855</td>\n",
       "      <td>77.956</td>\n",
       "      <td>1</td>\n",
       "    </tr>\n",
       "  </tbody>\n",
       "</table>\n",
       "</div>"
      ],
      "text/plain": [
       "   product_id  cheque_count_reg  quantity_reg    sum_reg  cheque_count_sales  quantity_sales  sum_sales  c_check   c_qua   c_sum  product_sub_group_id\n",
       "0           0            3961.0      6448.556  4.281e+05              1087.0        1440.893  6.405e+04   27.443  22.344  14.960                     0\n",
       "1         101             276.0       298.000  3.019e+04                31.0          32.000  2.548e+03   11.232  10.738   8.439                     0\n",
       "2         107             185.0       218.000  5.640e+04                57.0          71.000  1.079e+04   30.811  32.569  19.125                     1\n",
       "3         108             475.0       532.000  8.965e+04               193.0         240.000  2.440e+04   40.632  45.113  27.216                     1\n",
       "4         109           11068.0     22229.000  2.256e+06             17543.0       17751.000  1.758e+06  158.502  79.855  77.956                     1"
      ]
     },
     "execution_count": 50,
     "metadata": {},
     "output_type": "execute_result"
    }
   ],
   "source": [
    "df_sum.head()"
   ]
  },
  {
   "cell_type": "markdown",
   "metadata": {},
   "source": [
    "Подсчитываю показатели "
   ]
  },
  {
   "cell_type": "code",
   "execution_count": 51,
   "metadata": {},
   "outputs": [],
   "source": [
    "df_sum['r_check'] = (df_sum['cheque_count_sales'] * df_sum['c_check']) "
   ]
  },
  {
   "cell_type": "code",
   "execution_count": 52,
   "metadata": {},
   "outputs": [],
   "source": [
    "def r_coef(df_sub):\n",
    "    return df_sub['r_check'].sum() / df_sub['quantity_sales'].sum()"
   ]
  },
  {
   "cell_type": "code",
   "execution_count": 53,
   "metadata": {},
   "outputs": [],
   "source": [
    "df_sum_group = df_sum.groupby('product_sub_group_id').apply(r_coef)"
   ]
  },
  {
   "cell_type": "code",
   "execution_count": 54,
   "metadata": {},
   "outputs": [],
   "source": [
    "result = pd.DataFrame({'product_sub_group_coef_sales':df_sum_group.values}, index=df_sum_group.index)"
   ]
  },
  {
   "cell_type": "markdown",
   "metadata": {},
   "source": [
    "## Получается датасет по группам товаров с коэффицентом темпа роста "
   ]
  },
  {
   "cell_type": "code",
   "execution_count": 55,
   "metadata": {},
   "outputs": [
    {
     "data": {
      "text/html": [
       "<div>\n",
       "<style scoped>\n",
       "    .dataframe tbody tr th:only-of-type {\n",
       "        vertical-align: middle;\n",
       "    }\n",
       "\n",
       "    .dataframe tbody tr th {\n",
       "        vertical-align: top;\n",
       "    }\n",
       "\n",
       "    .dataframe thead th {\n",
       "        text-align: right;\n",
       "    }\n",
       "</style>\n",
       "<table border=\"1\" class=\"dataframe\">\n",
       "  <thead>\n",
       "    <tr style=\"text-align: right;\">\n",
       "      <th></th>\n",
       "      <th>product_sub_group_coef_sales</th>\n",
       "    </tr>\n",
       "    <tr>\n",
       "      <th>product_sub_group_id</th>\n",
       "      <th></th>\n",
       "    </tr>\n",
       "  </thead>\n",
       "  <tbody>\n",
       "    <tr>\n",
       "      <th>0</th>\n",
       "      <td>20.489</td>\n",
       "    </tr>\n",
       "    <tr>\n",
       "      <th>1</th>\n",
       "      <td>155.872</td>\n",
       "    </tr>\n",
       "    <tr>\n",
       "      <th>2</th>\n",
       "      <td>155.534</td>\n",
       "    </tr>\n",
       "    <tr>\n",
       "      <th>3</th>\n",
       "      <td>201.618</td>\n",
       "    </tr>\n",
       "    <tr>\n",
       "      <th>4</th>\n",
       "      <td>97.191</td>\n",
       "    </tr>\n",
       "    <tr>\n",
       "      <th>...</th>\n",
       "      <td>...</td>\n",
       "    </tr>\n",
       "    <tr>\n",
       "      <th>1417</th>\n",
       "      <td>254.605</td>\n",
       "    </tr>\n",
       "    <tr>\n",
       "      <th>1418</th>\n",
       "      <td>30.030</td>\n",
       "    </tr>\n",
       "    <tr>\n",
       "      <th>1419</th>\n",
       "      <td>34.705</td>\n",
       "    </tr>\n",
       "    <tr>\n",
       "      <th>1421</th>\n",
       "      <td>6.816</td>\n",
       "    </tr>\n",
       "    <tr>\n",
       "      <th>1427</th>\n",
       "      <td>1548.214</td>\n",
       "    </tr>\n",
       "  </tbody>\n",
       "</table>\n",
       "<p>832 rows × 1 columns</p>\n",
       "</div>"
      ],
      "text/plain": [
       "                      product_sub_group_coef_sales\n",
       "product_sub_group_id                              \n",
       "0                                           20.489\n",
       "1                                          155.872\n",
       "2                                          155.534\n",
       "3                                          201.618\n",
       "4                                           97.191\n",
       "...                                            ...\n",
       "1417                                       254.605\n",
       "1418                                        30.030\n",
       "1419                                        34.705\n",
       "1421                                         6.816\n",
       "1427                                      1548.214\n",
       "\n",
       "[832 rows x 1 columns]"
      ]
     },
     "execution_count": 55,
     "metadata": {},
     "output_type": "execute_result"
    }
   ],
   "source": [
    "result"
   ]
  },
  {
   "cell_type": "markdown",
   "metadata": {},
   "source": [
    "Данные по дням продаж по магазинам, где и в каком проводились акции и по каким товарным группам"
   ]
  },
  {
   "cell_type": "code",
   "execution_count": 65,
   "metadata": {},
   "outputs": [],
   "source": [
    "result_2 = pd.merge(result, df_days_with_out_shop.loc[df_days_with_out_shop['sale'] == 'Sale'], how='left', left_on='product_sub_group_id', right_on='product_sub_group_id')"
   ]
  },
  {
   "cell_type": "markdown",
   "metadata": {},
   "source": [
    "### Тут лучше было бы сделать датасет по всем магазинам, где в каких магазинах были акции где нет "
   ]
  },
  {
   "cell_type": "code",
   "execution_count": 68,
   "metadata": {},
   "outputs": [],
   "source": [
    "count_days = df.agg({'sale_date_id' : 'nunique'})\n",
    "result_2['reg_date_count'] =  count_days.item() - result_2['sale_date_id']\n"
   ]
  },
  {
   "cell_type": "code",
   "execution_count": 70,
   "metadata": {},
   "outputs": [],
   "source": [
    "del result_2['sale']"
   ]
  },
  {
   "cell_type": "code",
   "execution_count": 75,
   "metadata": {},
   "outputs": [],
   "source": [
    "result_3 = pd.merge(result_2, df_checks_by_status.loc[df_checks_by_status['sale'] == 'Sale'],  how='left', left_on='product_sub_group_id', right_on='product_sub_group_id')"
   ]
  },
  {
   "cell_type": "code",
   "execution_count": 77,
   "metadata": {},
   "outputs": [],
   "source": [
    "result_4 = pd.merge(result_3, df_checks_by_status.loc[df_checks_by_status['sale'] == 'Reg'],  how='left', left_on='product_sub_group_id', right_on='product_sub_group_id')"
   ]
  },
  {
   "cell_type": "code",
   "execution_count": 83,
   "metadata": {},
   "outputs": [
    {
     "data": {
      "text/html": [
       "<div>\n",
       "<style scoped>\n",
       "    .dataframe tbody tr th:only-of-type {\n",
       "        vertical-align: middle;\n",
       "    }\n",
       "\n",
       "    .dataframe tbody tr th {\n",
       "        vertical-align: top;\n",
       "    }\n",
       "\n",
       "    .dataframe thead th {\n",
       "        text-align: right;\n",
       "    }\n",
       "</style>\n",
       "<table border=\"1\" class=\"dataframe\">\n",
       "  <thead>\n",
       "    <tr style=\"text-align: right;\">\n",
       "      <th></th>\n",
       "      <th>product_sub_group_id</th>\n",
       "      <th>product_sub_group_coef_sales</th>\n",
       "      <th>sale_date_id</th>\n",
       "      <th>reg_date_count</th>\n",
       "      <th>check_by_sale</th>\n",
       "      <th>check_by_reg</th>\n",
       "    </tr>\n",
       "  </thead>\n",
       "  <tbody>\n",
       "    <tr>\n",
       "      <th>0</th>\n",
       "      <td>0</td>\n",
       "      <td>20.489</td>\n",
       "      <td>26</td>\n",
       "      <td>2</td>\n",
       "      <td>1118</td>\n",
       "      <td>4238</td>\n",
       "    </tr>\n",
       "    <tr>\n",
       "      <th>1</th>\n",
       "      <td>1</td>\n",
       "      <td>155.872</td>\n",
       "      <td>28</td>\n",
       "      <td>0</td>\n",
       "      <td>17796</td>\n",
       "      <td>11716</td>\n",
       "    </tr>\n",
       "    <tr>\n",
       "      <th>2</th>\n",
       "      <td>2</td>\n",
       "      <td>155.534</td>\n",
       "      <td>28</td>\n",
       "      <td>0</td>\n",
       "      <td>4580</td>\n",
       "      <td>4849</td>\n",
       "    </tr>\n",
       "    <tr>\n",
       "      <th>3</th>\n",
       "      <td>3</td>\n",
       "      <td>201.618</td>\n",
       "      <td>28</td>\n",
       "      <td>0</td>\n",
       "      <td>7465</td>\n",
       "      <td>11688</td>\n",
       "    </tr>\n",
       "    <tr>\n",
       "      <th>4</th>\n",
       "      <td>4</td>\n",
       "      <td>97.191</td>\n",
       "      <td>28</td>\n",
       "      <td>0</td>\n",
       "      <td>1567</td>\n",
       "      <td>1479</td>\n",
       "    </tr>\n",
       "    <tr>\n",
       "      <th>...</th>\n",
       "      <td>...</td>\n",
       "      <td>...</td>\n",
       "      <td>...</td>\n",
       "      <td>...</td>\n",
       "      <td>...</td>\n",
       "      <td>...</td>\n",
       "    </tr>\n",
       "    <tr>\n",
       "      <th>827</th>\n",
       "      <td>1417</td>\n",
       "      <td>254.605</td>\n",
       "      <td>28</td>\n",
       "      <td>0</td>\n",
       "      <td>13062</td>\n",
       "      <td>11702</td>\n",
       "    </tr>\n",
       "    <tr>\n",
       "      <th>828</th>\n",
       "      <td>1418</td>\n",
       "      <td>30.030</td>\n",
       "      <td>9</td>\n",
       "      <td>19</td>\n",
       "      <td>18</td>\n",
       "      <td>247</td>\n",
       "    </tr>\n",
       "    <tr>\n",
       "      <th>829</th>\n",
       "      <td>1419</td>\n",
       "      <td>34.705</td>\n",
       "      <td>4</td>\n",
       "      <td>24</td>\n",
       "      <td>5</td>\n",
       "      <td>21</td>\n",
       "    </tr>\n",
       "    <tr>\n",
       "      <th>830</th>\n",
       "      <td>1421</td>\n",
       "      <td>6.816</td>\n",
       "      <td>13</td>\n",
       "      <td>15</td>\n",
       "      <td>48</td>\n",
       "      <td>497</td>\n",
       "    </tr>\n",
       "    <tr>\n",
       "      <th>831</th>\n",
       "      <td>1427</td>\n",
       "      <td>1548.214</td>\n",
       "      <td>15</td>\n",
       "      <td>13</td>\n",
       "      <td>51</td>\n",
       "      <td>3</td>\n",
       "    </tr>\n",
       "  </tbody>\n",
       "</table>\n",
       "<p>832 rows × 6 columns</p>\n",
       "</div>"
      ],
      "text/plain": [
       "     product_sub_group_id  product_sub_group_coef_sales  sale_date_id  reg_date_count  check_by_sale  check_by_reg\n",
       "0                       0                        20.489            26               2           1118          4238\n",
       "1                       1                       155.872            28               0          17796         11716\n",
       "2                       2                       155.534            28               0           4580          4849\n",
       "3                       3                       201.618            28               0           7465         11688\n",
       "4                       4                        97.191            28               0           1567          1479\n",
       "..                    ...                           ...           ...             ...            ...           ...\n",
       "827                  1417                       254.605            28               0          13062         11702\n",
       "828                  1418                        30.030             9              19             18           247\n",
       "829                  1419                        34.705             4              24              5            21\n",
       "830                  1421                         6.816            13              15             48           497\n",
       "831                  1427                      1548.214            15              13             51             3\n",
       "\n",
       "[832 rows x 6 columns]"
      ]
     },
     "execution_count": 83,
     "metadata": {},
     "output_type": "execute_result"
    }
   ],
   "source": [
    "result_4.rename(columns={'cheque_id_x': 'check_by_sale', 'cheque_id_y' : 'check_by_reg'})"
   ]
  },
  {
   "cell_type": "markdown",
   "metadata": {},
   "source": [
    "# Финальный результат "
   ]
  },
  {
   "cell_type": "code",
   "execution_count": 82,
   "metadata": {},
   "outputs": [
    {
     "data": {
      "text/html": [
       "<div>\n",
       "<style scoped>\n",
       "    .dataframe tbody tr th:only-of-type {\n",
       "        vertical-align: middle;\n",
       "    }\n",
       "\n",
       "    .dataframe tbody tr th {\n",
       "        vertical-align: top;\n",
       "    }\n",
       "\n",
       "    .dataframe thead th {\n",
       "        text-align: right;\n",
       "    }\n",
       "</style>\n",
       "<table border=\"1\" class=\"dataframe\">\n",
       "  <thead>\n",
       "    <tr style=\"text-align: right;\">\n",
       "      <th></th>\n",
       "      <th>product_sub_group_id</th>\n",
       "      <th>product_sub_group_coef_sales</th>\n",
       "      <th>sale_date_id</th>\n",
       "      <th>reg_date_count</th>\n",
       "      <th>cheque_id_x</th>\n",
       "      <th>cheque_id_y</th>\n",
       "    </tr>\n",
       "  </thead>\n",
       "  <tbody>\n",
       "    <tr>\n",
       "      <th>0</th>\n",
       "      <td>0</td>\n",
       "      <td>20.489</td>\n",
       "      <td>26</td>\n",
       "      <td>2</td>\n",
       "      <td>1118</td>\n",
       "      <td>4238</td>\n",
       "    </tr>\n",
       "    <tr>\n",
       "      <th>1</th>\n",
       "      <td>1</td>\n",
       "      <td>155.872</td>\n",
       "      <td>28</td>\n",
       "      <td>0</td>\n",
       "      <td>17796</td>\n",
       "      <td>11716</td>\n",
       "    </tr>\n",
       "    <tr>\n",
       "      <th>2</th>\n",
       "      <td>2</td>\n",
       "      <td>155.534</td>\n",
       "      <td>28</td>\n",
       "      <td>0</td>\n",
       "      <td>4580</td>\n",
       "      <td>4849</td>\n",
       "    </tr>\n",
       "    <tr>\n",
       "      <th>3</th>\n",
       "      <td>3</td>\n",
       "      <td>201.618</td>\n",
       "      <td>28</td>\n",
       "      <td>0</td>\n",
       "      <td>7465</td>\n",
       "      <td>11688</td>\n",
       "    </tr>\n",
       "    <tr>\n",
       "      <th>4</th>\n",
       "      <td>4</td>\n",
       "      <td>97.191</td>\n",
       "      <td>28</td>\n",
       "      <td>0</td>\n",
       "      <td>1567</td>\n",
       "      <td>1479</td>\n",
       "    </tr>\n",
       "    <tr>\n",
       "      <th>...</th>\n",
       "      <td>...</td>\n",
       "      <td>...</td>\n",
       "      <td>...</td>\n",
       "      <td>...</td>\n",
       "      <td>...</td>\n",
       "      <td>...</td>\n",
       "    </tr>\n",
       "    <tr>\n",
       "      <th>827</th>\n",
       "      <td>1417</td>\n",
       "      <td>254.605</td>\n",
       "      <td>28</td>\n",
       "      <td>0</td>\n",
       "      <td>13062</td>\n",
       "      <td>11702</td>\n",
       "    </tr>\n",
       "    <tr>\n",
       "      <th>828</th>\n",
       "      <td>1418</td>\n",
       "      <td>30.030</td>\n",
       "      <td>9</td>\n",
       "      <td>19</td>\n",
       "      <td>18</td>\n",
       "      <td>247</td>\n",
       "    </tr>\n",
       "    <tr>\n",
       "      <th>829</th>\n",
       "      <td>1419</td>\n",
       "      <td>34.705</td>\n",
       "      <td>4</td>\n",
       "      <td>24</td>\n",
       "      <td>5</td>\n",
       "      <td>21</td>\n",
       "    </tr>\n",
       "    <tr>\n",
       "      <th>830</th>\n",
       "      <td>1421</td>\n",
       "      <td>6.816</td>\n",
       "      <td>13</td>\n",
       "      <td>15</td>\n",
       "      <td>48</td>\n",
       "      <td>497</td>\n",
       "    </tr>\n",
       "    <tr>\n",
       "      <th>831</th>\n",
       "      <td>1427</td>\n",
       "      <td>1548.214</td>\n",
       "      <td>15</td>\n",
       "      <td>13</td>\n",
       "      <td>51</td>\n",
       "      <td>3</td>\n",
       "    </tr>\n",
       "  </tbody>\n",
       "</table>\n",
       "<p>832 rows × 6 columns</p>\n",
       "</div>"
      ],
      "text/plain": [
       "     product_sub_group_id  product_sub_group_coef_sales  sale_date_id  reg_date_count  cheque_id_x  cheque_id_y\n",
       "0                       0                        20.489            26               2         1118         4238\n",
       "1                       1                       155.872            28               0        17796        11716\n",
       "2                       2                       155.534            28               0         4580         4849\n",
       "3                       3                       201.618            28               0         7465        11688\n",
       "4                       4                        97.191            28               0         1567         1479\n",
       "..                    ...                           ...           ...             ...          ...          ...\n",
       "827                  1417                       254.605            28               0        13062        11702\n",
       "828                  1418                        30.030             9              19           18          247\n",
       "829                  1419                        34.705             4              24            5           21\n",
       "830                  1421                         6.816            13              15           48          497\n",
       "831                  1427                      1548.214            15              13           51            3\n",
       "\n",
       "[832 rows x 6 columns]"
      ]
     },
     "execution_count": 82,
     "metadata": {},
     "output_type": "execute_result"
    }
   ],
   "source": [
    "result_4"
   ]
  },
  {
   "cell_type": "code",
   "execution_count": 85,
   "metadata": {},
   "outputs": [],
   "source": [
    "result_4.to_csv('data/final/final.csv')"
   ]
  },
  {
   "cell_type": "markdown",
   "metadata": {},
   "source": [
    "# Показатели"
   ]
  },
  {
   "cell_type": "code",
   "execution_count": 88,
   "metadata": {},
   "outputs": [],
   "source": [
    "df_mean_cheque = df.groupby(by=['sale']).agg({'sum_discounted' : 'sum', 'cheque_id' : 'count' })\n",
    "df_mean_cheque['mean_cheque'] = df_mean_cheque['sum_discounted'] / df_mean_cheque['cheque_id']"
   ]
  },
  {
   "cell_type": "markdown",
   "metadata": {},
   "source": [
    "### Средний чек"
   ]
  },
  {
   "cell_type": "code",
   "execution_count": 90,
   "metadata": {},
   "outputs": [
    {
     "data": {
      "text/html": [
       "<div>\n",
       "<style scoped>\n",
       "    .dataframe tbody tr th:only-of-type {\n",
       "        vertical-align: middle;\n",
       "    }\n",
       "\n",
       "    .dataframe tbody tr th {\n",
       "        vertical-align: top;\n",
       "    }\n",
       "\n",
       "    .dataframe thead th {\n",
       "        text-align: right;\n",
       "    }\n",
       "</style>\n",
       "<table border=\"1\" class=\"dataframe\">\n",
       "  <thead>\n",
       "    <tr style=\"text-align: right;\">\n",
       "      <th></th>\n",
       "      <th>sum_discounted</th>\n",
       "      <th>cheque_id</th>\n",
       "      <th>mean_cheque</th>\n",
       "    </tr>\n",
       "    <tr>\n",
       "      <th>sale</th>\n",
       "      <th></th>\n",
       "      <th></th>\n",
       "      <th></th>\n",
       "    </tr>\n",
       "  </thead>\n",
       "  <tbody>\n",
       "    <tr>\n",
       "      <th>Reg</th>\n",
       "      <td>7.467e+08</td>\n",
       "      <td>8292019</td>\n",
       "      <td>90.055</td>\n",
       "    </tr>\n",
       "    <tr>\n",
       "      <th>Sale</th>\n",
       "      <td>6.304e+08</td>\n",
       "      <td>7246258</td>\n",
       "      <td>86.995</td>\n",
       "    </tr>\n",
       "  </tbody>\n",
       "</table>\n",
       "</div>"
      ],
      "text/plain": [
       "      sum_discounted  cheque_id  mean_cheque\n",
       "sale                                        \n",
       "Reg        7.467e+08    8292019       90.055\n",
       "Sale       6.304e+08    7246258       86.995"
      ]
     },
     "execution_count": 90,
     "metadata": {},
     "output_type": "execute_result"
    }
   ],
   "source": [
    "df_mean_cheque"
   ]
  },
  {
   "cell_type": "markdown",
   "metadata": {},
   "source": [
    "### Покупки по клиентам, в каком магазине покупали, со скидкой или без"
   ]
  },
  {
   "cell_type": "code",
   "execution_count": 91,
   "metadata": {},
   "outputs": [
    {
     "data": {
      "text/html": [
       "<div>\n",
       "<style scoped>\n",
       "    .dataframe tbody tr th:only-of-type {\n",
       "        vertical-align: middle;\n",
       "    }\n",
       "\n",
       "    .dataframe tbody tr th {\n",
       "        vertical-align: top;\n",
       "    }\n",
       "\n",
       "    .dataframe thead th {\n",
       "        text-align: right;\n",
       "    }\n",
       "</style>\n",
       "<table border=\"1\" class=\"dataframe\">\n",
       "  <thead>\n",
       "    <tr style=\"text-align: right;\">\n",
       "      <th></th>\n",
       "      <th></th>\n",
       "      <th></th>\n",
       "      <th>sum_discounted</th>\n",
       "    </tr>\n",
       "    <tr>\n",
       "      <th>sale</th>\n",
       "      <th>contact_id</th>\n",
       "      <th>shop_id</th>\n",
       "      <th></th>\n",
       "    </tr>\n",
       "  </thead>\n",
       "  <tbody>\n",
       "    <tr>\n",
       "      <th rowspan=\"5\" valign=\"top\">Reg</th>\n",
       "      <th rowspan=\"2\" valign=\"top\">1</th>\n",
       "      <th>1</th>\n",
       "      <td>1096.37</td>\n",
       "    </tr>\n",
       "    <tr>\n",
       "      <th>34</th>\n",
       "      <td>78.81</td>\n",
       "    </tr>\n",
       "    <tr>\n",
       "      <th rowspan=\"2\" valign=\"top\">2</th>\n",
       "      <th>2</th>\n",
       "      <td>15044.25</td>\n",
       "    </tr>\n",
       "    <tr>\n",
       "      <th>32</th>\n",
       "      <td>906.81</td>\n",
       "    </tr>\n",
       "    <tr>\n",
       "      <th>3</th>\n",
       "      <th>3</th>\n",
       "      <td>1732.66</td>\n",
       "    </tr>\n",
       "    <tr>\n",
       "      <th>...</th>\n",
       "      <th>...</th>\n",
       "      <th>...</th>\n",
       "      <td>...</td>\n",
       "    </tr>\n",
       "    <tr>\n",
       "      <th rowspan=\"5\" valign=\"top\">Sale</th>\n",
       "      <th>267540</th>\n",
       "      <th>65</th>\n",
       "      <td>94.99</td>\n",
       "    </tr>\n",
       "    <tr>\n",
       "      <th>267543</th>\n",
       "      <th>45</th>\n",
       "      <td>272.90</td>\n",
       "    </tr>\n",
       "    <tr>\n",
       "      <th>267545</th>\n",
       "      <th>75</th>\n",
       "      <td>319.90</td>\n",
       "    </tr>\n",
       "    <tr>\n",
       "      <th>267546</th>\n",
       "      <th>32</th>\n",
       "      <td>39.90</td>\n",
       "    </tr>\n",
       "    <tr>\n",
       "      <th>267549</th>\n",
       "      <th>9</th>\n",
       "      <td>159.90</td>\n",
       "    </tr>\n",
       "  </tbody>\n",
       "</table>\n",
       "<p>1030444 rows × 1 columns</p>\n",
       "</div>"
      ],
      "text/plain": [
       "                         sum_discounted\n",
       "sale contact_id shop_id                \n",
       "Reg  1          1               1096.37\n",
       "                34                78.81\n",
       "     2          2              15044.25\n",
       "                32               906.81\n",
       "     3          3               1732.66\n",
       "...                                 ...\n",
       "Sale 267540     65                94.99\n",
       "     267543     45               272.90\n",
       "     267545     75               319.90\n",
       "     267546     32                39.90\n",
       "     267549     9                159.90\n",
       "\n",
       "[1030444 rows x 1 columns]"
      ]
     },
     "execution_count": 91,
     "metadata": {},
     "output_type": "execute_result"
    }
   ],
   "source": [
    "df.groupby(by=['sale', 'contact_id', 'shop_id']).agg({'sum_discounted' : 'sum'})"
   ]
  },
  {
   "cell_type": "markdown",
   "metadata": {},
   "source": [
    "### Частота посещений по клиентам"
   ]
  },
  {
   "cell_type": "code",
   "execution_count": 95,
   "metadata": {},
   "outputs": [
    {
     "data": {
      "text/html": [
       "<div>\n",
       "<style scoped>\n",
       "    .dataframe tbody tr th:only-of-type {\n",
       "        vertical-align: middle;\n",
       "    }\n",
       "\n",
       "    .dataframe tbody tr th {\n",
       "        vertical-align: top;\n",
       "    }\n",
       "\n",
       "    .dataframe thead th {\n",
       "        text-align: right;\n",
       "    }\n",
       "</style>\n",
       "<table border=\"1\" class=\"dataframe\">\n",
       "  <thead>\n",
       "    <tr style=\"text-align: right;\">\n",
       "      <th></th>\n",
       "      <th>contact_id</th>\n",
       "      <th>sale_date_id</th>\n",
       "    </tr>\n",
       "  </thead>\n",
       "  <tbody>\n",
       "    <tr>\n",
       "      <th>0</th>\n",
       "      <td>1</td>\n",
       "      <td>5</td>\n",
       "    </tr>\n",
       "    <tr>\n",
       "      <th>1</th>\n",
       "      <td>2</td>\n",
       "      <td>25</td>\n",
       "    </tr>\n",
       "    <tr>\n",
       "      <th>2</th>\n",
       "      <td>3</td>\n",
       "      <td>9</td>\n",
       "    </tr>\n",
       "    <tr>\n",
       "      <th>3</th>\n",
       "      <td>4</td>\n",
       "      <td>7</td>\n",
       "    </tr>\n",
       "    <tr>\n",
       "      <th>4</th>\n",
       "      <td>5</td>\n",
       "      <td>11</td>\n",
       "    </tr>\n",
       "    <tr>\n",
       "      <th>...</th>\n",
       "      <td>...</td>\n",
       "      <td>...</td>\n",
       "    </tr>\n",
       "    <tr>\n",
       "      <th>267544</th>\n",
       "      <td>267545</td>\n",
       "      <td>1</td>\n",
       "    </tr>\n",
       "    <tr>\n",
       "      <th>267545</th>\n",
       "      <td>267546</td>\n",
       "      <td>1</td>\n",
       "    </tr>\n",
       "    <tr>\n",
       "      <th>267546</th>\n",
       "      <td>267547</td>\n",
       "      <td>1</td>\n",
       "    </tr>\n",
       "    <tr>\n",
       "      <th>267547</th>\n",
       "      <td>267548</td>\n",
       "      <td>1</td>\n",
       "    </tr>\n",
       "    <tr>\n",
       "      <th>267548</th>\n",
       "      <td>267549</td>\n",
       "      <td>1</td>\n",
       "    </tr>\n",
       "  </tbody>\n",
       "</table>\n",
       "<p>267549 rows × 2 columns</p>\n",
       "</div>"
      ],
      "text/plain": [
       "        contact_id  sale_date_id\n",
       "0                1             5\n",
       "1                2            25\n",
       "2                3             9\n",
       "3                4             7\n",
       "4                5            11\n",
       "...            ...           ...\n",
       "267544      267545             1\n",
       "267545      267546             1\n",
       "267546      267547             1\n",
       "267547      267548             1\n",
       "267548      267549             1\n",
       "\n",
       "[267549 rows x 2 columns]"
      ]
     },
     "execution_count": 95,
     "metadata": {},
     "output_type": "execute_result"
    }
   ],
   "source": [
    "df_freq = df.groupby(by=['contact_id'], as_index=False).agg({'sale_date_id': \"nunique\" })\n",
    "df_freq"
   ]
  },
  {
   "cell_type": "markdown",
   "metadata": {},
   "source": [
    "### Частота посещений в среднем"
   ]
  },
  {
   "cell_type": "code",
   "execution_count": 103,
   "metadata": {},
   "outputs": [
    {
     "data": {
      "text/plain": [
       "contact_id      2.675e+05\n",
       "sale_date_id    1.865e+06\n",
       "mean            1.434e-01\n",
       "dtype: float64"
      ]
     },
     "execution_count": 103,
     "metadata": {},
     "output_type": "execute_result"
    }
   ],
   "source": [
    "df_freq_mean = df_freq.agg({'contact_id':'count', 'sale_date_id' : 'sum'})\n",
    "df_freq_mean['mean'] = df_freq_mean['contact_id'] / df_freq_mean['sale_date_id']\n",
    "df_freq_mean"
   ]
  }
 ],
 "metadata": {
  "kernelspec": {
   "display_name": "Python 3",
   "language": "python",
   "name": "python3"
  },
  "language_info": {
   "codemirror_mode": {
    "name": "ipython",
    "version": 3
   },
   "file_extension": ".py",
   "mimetype": "text/x-python",
   "name": "python",
   "nbconvert_exporter": "python",
   "pygments_lexer": "ipython3",
   "version": "3.8.2"
  }
 },
 "nbformat": 4,
 "nbformat_minor": 4
}
